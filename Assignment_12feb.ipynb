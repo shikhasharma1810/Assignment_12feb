{
 "cells": [
  {
   "cell_type": "code",
   "execution_count": null,
   "id": "3196148c-380b-4830-8582-bc162adfac3b",
   "metadata": {},
   "outputs": [],
   "source": [
    "1. What is an Exception in python? Write the difference between Exceptions and Syntax errors.\n",
    "\n",
    "An exception is a condition that interrupts the normal flow of the program.\n",
    "\n",
    "An error is an issue in a program that prevents the program from completing its task. Both errors and exceptions are a type\n",
    "of runtime error, which means they occur during the execution of a program. \n",
    "Two types of Error occurs in python:\n",
    "Syntax errors: When the proper syntax of the language is not followed then a syntax error is thrown.\n",
    "Logical errors (Exceptions): When in the runtime an error that occurs after passing the syntax test is called exception\n",
    "or logical type. For example, when we divide any number by zero then the ZeroDivisionError exception is raised, or when\n",
    "we import a module that does not exist then ImportError is raised."
   ]
  },
  {
   "cell_type": "code",
   "execution_count": null,
   "id": "e0129192-da9b-4b81-9f28-4ebe292bddba",
   "metadata": {},
   "outputs": [],
   "source": [
    "2. What happens when an exception is not handled? Explain with an example.\n",
    "\n",
    "Exceptions are errors that are detected during execution. Whenever there is an error in a program, exceptions are raised.\n",
    "\n",
    "If these exceptions are not handled, it drives the program into a halt state. Exception handling in python is required to \n",
    "prevent the program from terminating abruptly.\n",
    "Example:"
   ]
  },
  {
   "cell_type": "code",
   "execution_count": 3,
   "id": "70f56f9d-e0aa-479d-a018-0a8b16ad0bcb",
   "metadata": {},
   "outputs": [
    {
     "ename": "FileNotFoundError",
     "evalue": "[Errno 2] No such file or directory: 'push.txt'",
     "output_type": "error",
     "traceback": [
      "\u001b[0;31m---------------------------------------------------------------------------\u001b[0m",
      "\u001b[0;31mFileNotFoundError\u001b[0m                         Traceback (most recent call last)",
      "Cell \u001b[0;32mIn[3], line 1\u001b[0m\n\u001b[0;32m----> 1\u001b[0m f\u001b[38;5;241m=\u001b[39m\u001b[38;5;28;43mopen\u001b[39;49m\u001b[43m(\u001b[49m\u001b[38;5;124;43m'\u001b[39;49m\u001b[38;5;124;43mpush.txt\u001b[39;49m\u001b[38;5;124;43m'\u001b[39;49m\u001b[43m,\u001b[49m\u001b[38;5;124;43m'\u001b[39;49m\u001b[38;5;124;43mr\u001b[39;49m\u001b[38;5;124;43m'\u001b[39;49m\u001b[43m)\u001b[49m\n",
      "File \u001b[0;32m/opt/conda/lib/python3.10/site-packages/IPython/core/interactiveshell.py:282\u001b[0m, in \u001b[0;36m_modified_open\u001b[0;34m(file, *args, **kwargs)\u001b[0m\n\u001b[1;32m    275\u001b[0m \u001b[38;5;28;01mif\u001b[39;00m file \u001b[38;5;129;01min\u001b[39;00m {\u001b[38;5;241m0\u001b[39m, \u001b[38;5;241m1\u001b[39m, \u001b[38;5;241m2\u001b[39m}:\n\u001b[1;32m    276\u001b[0m     \u001b[38;5;28;01mraise\u001b[39;00m \u001b[38;5;167;01mValueError\u001b[39;00m(\n\u001b[1;32m    277\u001b[0m         \u001b[38;5;124mf\u001b[39m\u001b[38;5;124m\"\u001b[39m\u001b[38;5;124mIPython won\u001b[39m\u001b[38;5;124m'\u001b[39m\u001b[38;5;124mt let you open fd=\u001b[39m\u001b[38;5;132;01m{\u001b[39;00mfile\u001b[38;5;132;01m}\u001b[39;00m\u001b[38;5;124m by default \u001b[39m\u001b[38;5;124m\"\u001b[39m\n\u001b[1;32m    278\u001b[0m         \u001b[38;5;124m\"\u001b[39m\u001b[38;5;124mas it is likely to crash IPython. If you know what you are doing, \u001b[39m\u001b[38;5;124m\"\u001b[39m\n\u001b[1;32m    279\u001b[0m         \u001b[38;5;124m\"\u001b[39m\u001b[38;5;124myou can use builtins\u001b[39m\u001b[38;5;124m'\u001b[39m\u001b[38;5;124m open.\u001b[39m\u001b[38;5;124m\"\u001b[39m\n\u001b[1;32m    280\u001b[0m     )\n\u001b[0;32m--> 282\u001b[0m \u001b[38;5;28;01mreturn\u001b[39;00m \u001b[43mio_open\u001b[49m\u001b[43m(\u001b[49m\u001b[43mfile\u001b[49m\u001b[43m,\u001b[49m\u001b[43m \u001b[49m\u001b[38;5;241;43m*\u001b[39;49m\u001b[43margs\u001b[49m\u001b[43m,\u001b[49m\u001b[43m \u001b[49m\u001b[38;5;241;43m*\u001b[39;49m\u001b[38;5;241;43m*\u001b[39;49m\u001b[43mkwargs\u001b[49m\u001b[43m)\u001b[49m\n",
      "\u001b[0;31mFileNotFoundError\u001b[0m: [Errno 2] No such file or directory: 'push.txt'"
     ]
    }
   ],
   "source": [
    "f=open('push.txt','r')"
   ]
  },
  {
   "cell_type": "code",
   "execution_count": null,
   "id": "49676b86-e948-4660-a313-ecb0eab61bd9",
   "metadata": {},
   "outputs": [],
   "source": [
    "3. Which Python statements are used to catch and handle exceptions? Explain with an example.\n",
    "\n",
    "The try and except block in Python is used to catch and handle exceptions. Python executes code following the try statement\n",
    "as a “normal” part of the program. The code that follows the except statement is the program’s response to any exceptions\n",
    "in the preceding try clause.\n",
    "Example:"
   ]
  },
  {
   "cell_type": "code",
   "execution_count": 4,
   "id": "7cf6a54b-575c-44ad-87ac-22a64e1d4fb9",
   "metadata": {},
   "outputs": [
    {
     "name": "stdout",
     "output_type": "stream",
     "text": [
      "Could not open file.log\n"
     ]
    }
   ],
   "source": [
    "try:\n",
    "    with open('file.log') as file:\n",
    "        read_data = file.read()\n",
    "except:\n",
    "    print('Could not open file.log')"
   ]
  },
  {
   "cell_type": "code",
   "execution_count": null,
   "id": "7b3713bb-6fbc-4748-983e-57b3c7f2f151",
   "metadata": {},
   "outputs": [],
   "source": [
    "4. Explain with an example:"
   ]
  },
  {
   "cell_type": "code",
   "execution_count": 6,
   "id": "76139dcf-2404-40fb-b5c8-37802c4560d9",
   "metadata": {},
   "outputs": [
    {
     "name": "stdout",
     "output_type": "stream",
     "text": [
      "Executes after executing try block error free\n"
     ]
    }
   ],
   "source": [
    "# try and else-\n",
    "try:\n",
    "    f=open('stem.txt','w')\n",
    "    f.write('write in my file')\n",
    "except Exception as e:\n",
    "    print('This is except block \\n',e)\n",
    "else:\n",
    "    f.close()\n",
    "    print('Executes after executing try block error free')"
   ]
  },
  {
   "cell_type": "code",
   "execution_count": 7,
   "id": "e0858dc6-42e2-4b85-94c0-7e3ff6859dbb",
   "metadata": {},
   "outputs": [
    {
     "name": "stdout",
     "output_type": "stream",
     "text": [
      "finally will execute in any situation\n"
     ]
    }
   ],
   "source": [
    "#  finally-\n",
    "try:\n",
    "    f=open('stem1.txt','w')\n",
    "    f.write('write in file')\n",
    "finally:\n",
    "    print('finally will execute in any situation')"
   ]
  },
  {
   "cell_type": "code",
   "execution_count": 11,
   "id": "b987cfee-b70a-4184-b9f1-ebe5ab4bc2df",
   "metadata": {},
   "outputs": [
    {
     "name": "stdin",
     "output_type": "stream",
     "text": [
      "Enter age 32\n"
     ]
    },
    {
     "name": "stdout",
     "output_type": "stream",
     "text": [
      "Age is valid\n"
     ]
    }
   ],
   "source": [
    "#  raise-\n",
    "\n",
    "class validate_age(Exception):\n",
    "    def __init__(self,msg):\n",
    "        self.msg=msg\n",
    "        \n",
    "def validateage(age):\n",
    "    if age<0:\n",
    "        raise validateage('Age is negative')\n",
    "    elif age>200:\n",
    "        raise validateage('Age entered is too high')\n",
    "    else:\n",
    "        print('Age is valid')\n",
    "        \n",
    "try:\n",
    "    age=int(input('Enter age'))\n",
    "    validateage(age)\n",
    "except validateage as e:\n",
    "    print(e)"
   ]
  },
  {
   "cell_type": "code",
   "execution_count": null,
   "id": "22175cb0-9280-4aa1-b480-33d829c9ad8f",
   "metadata": {},
   "outputs": [],
   "source": [
    "5. What are Custom Exceptions in python? Why do we need Custom Exceptions? Explain with an example.\n",
    "\n",
    "Custom Exceptions in Python:\n",
    "Sometimes based on project requirement, a programmer needs to create his own exceptions and raise explicitly for \n",
    "corresponding scenarios. Such types of exceptions are called customized Exceptions or Programmatic Exceptions. We can\n",
    "raise a custom exception by using the keyword ‘raise’.\n",
    "\n",
    "Steps to create Custom Exception in python:\n",
    "The first step is to create a class for our exception. Since all exceptions are classes, the programmer is supposed to \n",
    "create his own exception as a class. The created class should be a child class of in-built “Exception” class.\n",
    "\n",
    "Syntax: \n",
    "\n",
    "class MyException(Exception):\n",
    "    def __init__(self,arg):\n",
    "        self.arg=arg\n",
    "\n",
    "In the second step raise the exception where it required. When the programmer suspects the possibility of exception, then\n",
    "he can raise his own exception using raise keyword.\n",
    "\n",
    "Syntax:\n",
    "    \n",
    "raise MyException('message')"
   ]
  },
  {
   "cell_type": "code",
   "execution_count": 12,
   "id": "211a87c6-c7cb-4c87-b3ba-18a0ae4fdfeb",
   "metadata": {},
   "outputs": [
    {
     "name": "stdin",
     "output_type": "stream",
     "text": [
      "Enter a number between positive integer:  -32\n"
     ]
    },
    {
     "name": "stdout",
     "output_type": "stream",
     "text": [
      "You provided -32. Please provide positive integer values only\n"
     ]
    }
   ],
   "source": [
    "# Example of Custom Exceptions-\n",
    "\n",
    "class NegativeError(Exception):\n",
    "    def __init__(self, data):\n",
    "        self.data = data\n",
    "\n",
    "try:\n",
    "    x = int(input(\"Enter a number between positive integer: \"))\n",
    "    if x < 0:\n",
    "        raise NegativeError(x)\n",
    "except NegativeError as e:\n",
    "    print(\"You provided {}. Please provide positive integer values only\".format(e))"
   ]
  },
  {
   "cell_type": "code",
   "execution_count": null,
   "id": "dc4f9ca5-40f6-41fb-8779-ea82e4ffc308",
   "metadata": {},
   "outputs": [],
   "source": [
    "6. Create a custom exception class. Use this class to handle an exception."
   ]
  },
  {
   "cell_type": "code",
   "execution_count": 17,
   "id": "389a72fa-1a6d-4b61-9894-42346c2d0a62",
   "metadata": {},
   "outputs": [
    {
     "name": "stdin",
     "output_type": "stream",
     "text": [
      "Enter age 15\n"
     ]
    },
    {
     "name": "stdout",
     "output_type": "stream",
     "text": [
      "You are under age, you cannot vote\n"
     ]
    }
   ],
   "source": [
    "class votingage(Exception):\n",
    "    def __init__(self,age):\n",
    "        self.age=age\n",
    "        \n",
    "try:\n",
    "    age=int(input('Enter age'))\n",
    "    if age<0:\n",
    "        raise votingage('Entered age is negative')\n",
    "    elif age>=18:\n",
    "        raise votingage('You can vote')\n",
    "    else:\n",
    "        print('You are under age, you cannot vote')\n",
    "except votingage as e:\n",
    "    print(e)"
   ]
  }
 ],
 "metadata": {
  "kernelspec": {
   "display_name": "Python 3 (ipykernel)",
   "language": "python",
   "name": "python3"
  },
  "language_info": {
   "codemirror_mode": {
    "name": "ipython",
    "version": 3
   },
   "file_extension": ".py",
   "mimetype": "text/x-python",
   "name": "python",
   "nbconvert_exporter": "python",
   "pygments_lexer": "ipython3",
   "version": "3.10.8"
  }
 },
 "nbformat": 4,
 "nbformat_minor": 5
}
